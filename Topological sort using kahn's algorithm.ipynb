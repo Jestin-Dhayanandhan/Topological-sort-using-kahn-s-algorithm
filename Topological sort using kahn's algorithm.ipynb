{
 "cells": [
  {
   "cell_type": "code",
   "execution_count": 1,
   "id": "8daefe2d-f9b7-426e-9eb0-759a0065f46a",
   "metadata": {},
   "outputs": [
    {
     "name": "stdout",
     "output_type": "stream",
     "text": [
      "['0', '1', '2', '4', '3']\n"
     ]
    }
   ],
   "source": [
    "from collections import defaultdict\n",
    "\n",
    "graph={\n",
    "    '0':set(['1','2']),\n",
    "    '1':set(['2','3']),\n",
    "    '2':set(['3','4']),\n",
    "    '3':set([]),\n",
    "    '4':set([])\n",
    "}\n",
    "\n",
    "def topological_sort_khan(graph):\n",
    "    indegree=defaultdict(int)\n",
    "    queue=[]\n",
    "    for node in graph:\n",
    "        for neighbour in graph[node]:\n",
    "            indegree[neighbour] +=1\n",
    "    #print(indegree) #for checking purpose\n",
    "    for node in graph:\n",
    "        if indegree[node]==0:\n",
    "            queue.append(node)       \n",
    "    topological_order=[]\n",
    "\n",
    "    while queue:\n",
    "        node=queue.pop(0)\n",
    "        topological_order.append(node)\n",
    "\n",
    "        for neighbour in graph[node]:\n",
    "            indegree[neighbour] -=1\n",
    "\n",
    "            if indegree[neighbour] ==0:\n",
    "                queue.append(neighbour)\n",
    "    if len(topological_order)!=len(graph):\n",
    "        print('CYCLE PRESENT')\n",
    "        \n",
    "    print(topological_order)\n",
    "    \n",
    "topological_sort_khan(graph)"
   ]
  },
  {
   "cell_type": "code",
   "execution_count": null,
   "id": "b7606a04-757a-4054-b1c8-f781e47f7194",
   "metadata": {},
   "outputs": [],
   "source": []
  }
 ],
 "metadata": {
  "kernelspec": {
   "display_name": "Python 3 (ipykernel)",
   "language": "python",
   "name": "python3"
  },
  "language_info": {
   "codemirror_mode": {
    "name": "ipython",
    "version": 3
   },
   "file_extension": ".py",
   "mimetype": "text/x-python",
   "name": "python",
   "nbconvert_exporter": "python",
   "pygments_lexer": "ipython3",
   "version": "3.10.5"
  }
 },
 "nbformat": 4,
 "nbformat_minor": 5
}
